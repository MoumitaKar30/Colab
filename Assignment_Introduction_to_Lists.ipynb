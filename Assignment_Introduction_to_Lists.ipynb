{
  "nbformat": 4,
  "nbformat_minor": 0,
  "metadata": {
    "kernelspec": {
      "display_name": "Python 3",
      "language": "python",
      "name": "python3"
    },
    "language_info": {
      "codemirror_mode": {
        "name": "ipython",
        "version": 3
      },
      "file_extension": ".py",
      "mimetype": "text/x-python",
      "name": "python",
      "nbconvert_exporter": "python",
      "pygments_lexer": "ipython3",
      "version": "3.7.4"
    },
    "colab": {
      "provenance": [],
      "history_visible": true,
      "include_colab_link": true
    }
  },
  "cells": [
    {
      "cell_type": "markdown",
      "metadata": {
        "id": "view-in-github",
        "colab_type": "text"
      },
      "source": [
        "<a href=\"https://colab.research.google.com/github/MoumitaKar30/Colab/blob/main/Assignment_Introduction_to_Lists.ipynb\" target=\"_parent\"><img src=\"https://colab.research.google.com/assets/colab-badge.svg\" alt=\"Open In Colab\"/></a>"
      ]
    },
    {
      "cell_type": "markdown",
      "metadata": {
        "id": "t4O7WDUFjkFq"
      },
      "source": [
        "## <u>While doing this assignment only use those concepts which have been taught till now</u>"
      ]
    },
    {
      "cell_type": "markdown",
      "metadata": {
        "id": "KB9ZI2xAjkF6"
      },
      "source": [
        "## <u>Problem 1</u>\n",
        "\n",
        "A list contains the average daily temperature(in degree Celsius) of a city over a particular week. Write a Python code to swap the highest and the lowest temperatures"
      ]
    },
    {
      "cell_type": "code",
      "metadata": {
        "id": "O3ZtUcxsjkF7"
      },
      "source": [
        "# A list containing average daily temperature over a week \n",
        "temperatures = [34, 40, 29, 33, 42, 37, 39 ]\n",
        "\n",
        "# The expected output \n",
        "# output_temperatures = [34, 40, 42, 33, 29, 37, 39]"
      ],
      "execution_count": 23,
      "outputs": []
    },
    {
      "cell_type": "code",
      "metadata": {
        "id": "HRFHv7OXjkGR",
        "colab": {
          "base_uri": "https://localhost:8080/"
        },
        "outputId": "6994dfd7-e070-43cc-bc0c-cee0a31a78d0"
      },
      "source": [
        "# Store the highest temperature\n",
        "max_temp = max(temperatures)\n",
        "\n",
        "# Index of the element with the highest temperature\n",
        "max_temp_index = temperatures.index(max_temp)\n",
        "print(max_temp_index)"
      ],
      "execution_count": 24,
      "outputs": [
        {
          "output_type": "stream",
          "name": "stdout",
          "text": [
            "4\n"
          ]
        }
      ]
    },
    {
      "cell_type": "code",
      "metadata": {
        "id": "8lsfVKbcjkGW",
        "colab": {
          "base_uri": "https://localhost:8080/"
        },
        "outputId": "529ed64d-07b5-47c2-915b-a1f908d2dc61"
      },
      "source": [
        "# Store the lowest temperature \n",
        "min_temp = min(temperatures)\n",
        "\n",
        "# Index of the element with the lowest temperature\n",
        "min_temp_index = temperatures.index(min_temp)\n",
        "print(min_temp_index)"
      ],
      "execution_count": 25,
      "outputs": [
        {
          "output_type": "stream",
          "name": "stdout",
          "text": [
            "2\n"
          ]
        }
      ]
    },
    {
      "cell_type": "code",
      "metadata": {
        "id": "W8UkX2IHjkGc"
      },
      "source": [
        "# Swap the highest and the lowest temperatures\n",
        "temperatures[2]=temperatures[4]\n",
        "temperatures[4]=temperatures[2]\n"
      ],
      "execution_count": 14,
      "outputs": []
    },
    {
      "cell_type": "code",
      "metadata": {
        "id": "2UpeOQ7qjkGg",
        "colab": {
          "base_uri": "https://localhost:8080/"
        },
        "outputId": "1b4d5564-4844-4a1e-9d70-dc778ee1bc4b"
      },
      "source": [
        "# Print the output list\n",
        "print(temperatures)"
      ],
      "execution_count": 12,
      "outputs": [
        {
          "output_type": "stream",
          "name": "stdout",
          "text": [
            "[34, 40, 29, 33, 42, 37, 39]\n"
          ]
        }
      ]
    },
    {
      "cell_type": "markdown",
      "metadata": {
        "id": "zxqe73yrjkGi"
      },
      "source": [
        "\n",
        "## <u>Problem 2 </u>\n",
        "\n",
        "### Measures of Averages\n",
        "\n",
        "* Mean of a group is defined as the sum of the elements in the group divided by the number of elements in the group.\n",
        "* Median is the middle number in a <b>sorted</b>, ascending or descending, list of numbers. If the list has $N$ numbers where $N$ is odd, then median is the element in the middle i.e, $(\\frac{N+1}{2})^{th}$ element. If $N$ is even, then median is the mean of $(\\frac{N}{2})^{th}$ and $(\\frac{N}{2}+1)^{th}$ elements"
      ]
    },
    {
      "cell_type": "code",
      "metadata": {
        "id": "TNWp2uyVjkGi"
      },
      "source": [
        "# List of product prices\n",
        "\n",
        "prod_price_list = [400, 250, 800, 550, 600, 820, 720, 15000, 360,250]"
      ],
      "execution_count": 15,
      "outputs": []
    },
    {
      "cell_type": "code",
      "metadata": {
        "id": "KwenpH43jkGm",
        "colab": {
          "base_uri": "https://localhost:8080/"
        },
        "outputId": "8b7491f9-1080-4b6e-e653-9284060fa945"
      },
      "source": [
        "# Calculate the mean of the product prices. Use list functions. Also print the mean_price\n",
        "mean_price = sum(prod_price_list)/len(prod_price_list)\n",
        "print(mean_price)"
      ],
      "execution_count": 17,
      "outputs": [
        {
          "output_type": "stream",
          "name": "stdout",
          "text": [
            "1975.0\n"
          ]
        }
      ]
    },
    {
      "cell_type": "markdown",
      "metadata": {
        "id": "gTojysiqjkGr"
      },
      "source": [
        "### Calculate the median price"
      ]
    },
    {
      "cell_type": "code",
      "metadata": {
        "id": "5SBpWBGEjkGr",
        "colab": {
          "base_uri": "https://localhost:8080/"
        },
        "outputId": "07d96efe-da28-48a0-a191-e1dd29cdc3b4"
      },
      "source": [
        "# Step 1 - Obtain the sorted list. Print the sorted_prices\n",
        "sorted_prices = sorted(prod_price_list)\n",
        "print(sorted_prices)"
      ],
      "execution_count": 19,
      "outputs": [
        {
          "output_type": "stream",
          "name": "stdout",
          "text": [
            "[250, 250, 360, 400, 550, 600, 720, 800, 820, 15000]\n"
          ]
        }
      ]
    },
    {
      "cell_type": "code",
      "metadata": {
        "id": "29eoJETXjkGu",
        "colab": {
          "base_uri": "https://localhost:8080/"
        },
        "outputId": "7b7c20f8-96a9-48ce-91e6-0c979b3bf67e"
      },
      "source": [
        "# Check if the number of elements in the list is even or odd\n",
        "len(prod_price_list)%2==0"
      ],
      "execution_count": 58,
      "outputs": [
        {
          "output_type": "execute_result",
          "data": {
            "text/plain": [
              "True"
            ]
          },
          "metadata": {},
          "execution_count": 58
        }
      ]
    },
    {
      "cell_type": "code",
      "metadata": {
        "id": "RiafM7R_jkGy",
        "colab": {
          "base_uri": "https://localhost:8080/"
        },
        "outputId": "ab00ce76-d07a-416f-e466-0b205808828d"
      },
      "source": [
        "# Use the corresponding formula to calculate the median and print the median\n",
        "median_price = (sorted_prices[-(round(len(sorted_prices)/2))]+sorted_prices[-(round(len(sorted_prices)/2))-1])/2\n",
        "print(median_price)\n",
        "\n"
      ],
      "execution_count": 76,
      "outputs": [
        {
          "output_type": "stream",
          "name": "stdout",
          "text": [
            "575.0\n"
          ]
        }
      ]
    },
    {
      "cell_type": "code",
      "metadata": {
        "id": "brysk47ojkG0",
        "colab": {
          "base_uri": "https://localhost:8080/"
        },
        "outputId": "1c92d90f-5d53-497f-bb4c-7a549ba1c347"
      },
      "source": [
        "# Check which is greater, mean or median\n",
        "max(median_price,mean_price)"
      ],
      "execution_count": 77,
      "outputs": [
        {
          "output_type": "execute_result",
          "data": {
            "text/plain": [
              "1975.0"
            ]
          },
          "metadata": {},
          "execution_count": 77
        }
      ]
    },
    {
      "cell_type": "markdown",
      "metadata": {
        "id": "jB0y0UdbjkG3"
      },
      "source": [
        "### Why do you think that is the case??"
      ]
    },
    {
      "cell_type": "markdown",
      "metadata": {
        "id": "_JguWGM_-_ST"
      },
      "source": [
        "### <u>Write your explanation in this text cell</u>\n",
        "\n",
        "Your explanation : The mean is greater than the median, so the distribution is positively skewed or right skewed.\n"
      ]
    },
    {
      "cell_type": "markdown",
      "metadata": {
        "id": "J3x3tmzTjkG3"
      },
      "source": [
        "## <u> Problem 3 </u>\n",
        "\n",
        "Having a nested list sometimes might be a bit problematic. An individual was asked to collect the names of companies in the technology sector. While creating the list, by mistake the last three companies were subsumed in a list as shown below. You are required to get rid of the nesting"
      ]
    },
    {
      "cell_type": "code",
      "metadata": {
        "id": "6IbY26WqjkG4"
      },
      "source": [
        "# The list of tech companies curated by the individual\n",
        "tech_companies = ['Qualcomm','Google','Apple',['Nvidia','Cisco','Samsung']]\n",
        "\n",
        "# The final list that we want\n",
        "# correct_tech_companies = ['Qualcomm','Google','Apple','Nvidia','Cisco','Samsung']"
      ],
      "execution_count": 2,
      "outputs": []
    },
    {
      "cell_type": "code",
      "metadata": {
        "id": "anVH03bTjkG7",
        "colab": {
          "base_uri": "https://localhost:8080/"
        },
        "outputId": "ebc694f8-ccb1-4c19-d739-6c5372f5657f"
      },
      "source": [
        "# Write your code below\n",
        "correct_tech_companies = tech_companies[0:3]+tech_companies[3]\n",
        "#print(correct_tech_companies)\n",
        "print(correct_tech_companies)"
      ],
      "execution_count": 33,
      "outputs": [
        {
          "output_type": "stream",
          "name": "stdout",
          "text": [
            "['Qualcomm', 'Google', 'Apple', 'Nvidia', 'Cisco', 'Samsung']\n"
          ]
        }
      ]
    },
    {
      "cell_type": "code",
      "metadata": {
        "id": "BsVsotOGjkG_",
        "colab": {
          "base_uri": "https://localhost:8080/"
        },
        "outputId": "cd791761-0f22-4156-bd08-76a065aa0192"
      },
      "source": [
        "# Do the same task another way\n"
      ],
      "execution_count": 36,
      "outputs": [
        {
          "output_type": "stream",
          "name": "stdout",
          "text": [
            "None\n"
          ]
        }
      ]
    }
  ]
}